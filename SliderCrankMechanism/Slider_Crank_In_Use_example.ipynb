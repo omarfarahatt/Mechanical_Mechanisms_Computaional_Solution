{
 "cells": [
  {
   "cell_type": "code",
   "execution_count": 1,
   "metadata": {
    "execution": {
     "iopub.execute_input": "2025-04-18T01:53:00.045510Z",
     "iopub.status.busy": "2025-04-18T01:53:00.045510Z",
     "iopub.status.idle": "2025-04-18T01:53:00.186423Z",
     "shell.execute_reply": "2025-04-18T01:53:00.185412Z"
    },
    "id": "C2dbT8ZwZLhC"
   },
   "outputs": [],
   "source": [
    "import math\n",
    "import numpy as np\n",
    "\n",
    "def analyze_linkage(r_2, r_3, r_d, theta_2_deg, omega_2, alpha_2):\n",
    "    theta_2 = math.radians(theta_2_deg)\n",
    "    theta_3 = math.asin((r_d - r_2 * math.sin(theta_2)) / r_3)\n",
    "\n",
    "    r_1 = r_2 * math.cos(theta_2) + r_3 * math.cos(theta_3)\n",
    "\n",
    "    omega_3 = -(r_2 * omega_2 * math.cos(theta_2)) / (r_3 * math.cos(theta_3))\n",
    "    v_1 = -r_2 * omega_2 * math.sin(theta_2) - r_3 * omega_3 * math.sin(theta_3)\n",
    "\n",
    "    alpha_3 = (r_2 * omega_2**2 * math.sin(theta_2) - r_2 * alpha_2 * math.cos(theta_2) + r_3 * omega_3**2 * math.sin(theta_3)) / (r_3 * math.cos(theta_3))\n",
    "    a_1 = -r_2 * omega_2**2 * math.cos(theta_2) - r_3 * omega_3**2 * math.cos(theta_3) - r_2 * alpha_2 * math.sin(theta_2) - r_3 * alpha_3 * math.sin(theta_3)\n",
    "\n",
    "    return r_1, theta_3, omega_3, v_1, alpha_3, a_1\n"
   ]
  },
  {
   "cell_type": "code",
   "execution_count": 2,
   "metadata": {
    "execution": {
     "iopub.execute_input": "2025-04-18T01:53:00.190428Z",
     "iopub.status.busy": "2025-04-18T01:53:00.190428Z",
     "iopub.status.idle": "2025-04-18T01:53:00.197654Z",
     "shell.execute_reply": "2025-04-18T01:53:00.196643Z"
    },
    "id": "J1xFg2iTazzb"
   },
   "outputs": [],
   "source": [
    "givens = {\n",
    "    'a': {'r_2': 1.4, 'r_3': 4,  'r_d': 1,   'theta_2': 45,  'omega_2': 10,   'alpha_2': 0},\n",
    "    'b': {'r_2': 2,   'r_3': 6,  'r_d': -3,  'theta_2': 60,  'omega_2': -12,  'alpha_2': 5},\n",
    "    'c': {'r_2': 3,   'r_3': 8,  'r_d': 2,   'theta_2': -30, 'omega_2': -15,  'alpha_2': -10},\n",
    "    'd': {'r_2': 3.5, 'r_3': 10, 'r_d': 1,   'theta_2': 120, 'omega_2': 24,   'alpha_2': -4},\n",
    "    'e': {'r_2': 5,   'r_3': 20, 'r_d': -5,  'theta_2': 225, 'omega_2': -50,  'alpha_2': 10},\n",
    "    'f': {'r_2': 3,   'r_3': 13, 'r_d': 0,   'theta_2': 100, 'omega_2': -45,  'alpha_2': 50},\n",
    "    'g': {'r_2': 7,   'r_3': 25, 'r_d': 10,  'theta_2': 330, 'omega_2': 100,  'alpha_2': 18},\n",
    "}"
   ]
  },
  {
   "cell_type": "code",
   "execution_count": 3,
   "metadata": {
    "colab": {
     "base_uri": "https://localhost:8080/"
    },
    "execution": {
     "iopub.execute_input": "2025-04-18T01:53:00.201652Z",
     "iopub.status.busy": "2025-04-18T01:53:00.200652Z",
     "iopub.status.idle": "2025-04-18T01:53:00.210040Z",
     "shell.execute_reply": "2025-04-18T01:53:00.209031Z"
    },
    "id": "NLN5Y0sUa-g4",
    "outputId": "1d23efd0-4e59-4216-cd51-46fc24b53f2c"
   },
   "outputs": [
    {
     "name": "stdout",
     "output_type": "stream",
     "text": [
      "Case a:\n",
      "  r_1: 4.99\n",
      "  v_1: -9.87\n",
      "  a_1: -123.74\n",
      "\n",
      "Case b:\n",
      "  r_1: 4.69\n",
      "  v_1: 36.18\n",
      "  a_1: 57.60\n",
      "\n",
      "Case c:\n",
      "  r_1: 9.79\n",
      "  v_1: -41.46\n",
      "  a_1: -709.10\n",
      "\n",
      "Case d:\n",
      "  r_1: 8.04\n",
      "  v_1: -64.03\n",
      "  a_1: 1192.92\n",
      "\n",
      "Case e:\n",
      "  r_1: 16.41\n",
      "  v_1: -189.76\n",
      "  a_1: 6652.68\n",
      "\n",
      "Case f:\n",
      "  r_1: 12.14\n",
      "  v_1: 127.48\n",
      "  a_1: 2263.68\n",
      "\n",
      "Case g:\n",
      "  r_1: 27.10\n",
      "  v_1: 738.94\n",
      "  a_1: -62687.97\n",
      "\n"
     ]
    }
   ],
   "source": [
    "for key, values in givens.items():\n",
    "    r_2 = values['r_2']\n",
    "    r_3 = values['r_3']\n",
    "    r_d = values['r_d']\n",
    "    theta_2 = values['theta_2']\n",
    "    omega_2 = values['omega_2']\n",
    "    alpha_2 = values['alpha_2']\n",
    "\n",
    "\n",
    "    r_1, theta_3, omega_3, v_1, alpha_3, a_1 = analyze_linkage(r_2, r_3, r_d, theta_2, omega_2, alpha_2)\n",
    "\n",
    "    print(f\"Case {key}:\")\n",
    "    print(f\"  r_1: {r_1:.2f}\")\n",
    "    print(f\"  v_1: {v_1:.2f}\")\n",
    "    print(f\"  a_1: {a_1:.2f}\")\n",
    "    print()"
   ]
  }
 ],
 "metadata": {
  "colab": {
   "provenance": []
  },
  "kernelspec": {
   "display_name": "Python 3",
   "name": "python3"
  },
  "language_info": {
   "codemirror_mode": {
    "name": "ipython",
    "version": 3
   },
   "file_extension": ".py",
   "mimetype": "text/x-python",
   "name": "python",
   "nbconvert_exporter": "python",
   "pygments_lexer": "ipython3",
   "version": "3.12.7"
  }
 },
 "nbformat": 4,
 "nbformat_minor": 0
}
